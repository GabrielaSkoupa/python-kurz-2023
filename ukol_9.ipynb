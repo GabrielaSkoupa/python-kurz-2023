{
 "cells": [
  {
   "cell_type": "markdown",
   "metadata": {},
   "source": [
    "Úkol můžeš odevzdat buďto jako Jupyter Notebook .ipynb, nebo jako klasický program .py.\n",
    "\n",
    "Stáhni si soubor temperature.csv, který obsahuje informace o průměrné teplotě v různých městech v listopadu 2017.\n",
    "\n",
    "Vypiš si prvních několik řádků, ať si prohlédneš strukturu tabulky.\n",
    "\n",
    "Dále napiš následující dotazy:\n",
    "\n",
    "Dotaz na měření, která byla provedena v Praze. Je na datech něco zvláštního? Napadá tě, čím to může být? Zde je nápověda.\n",
    "Dotaz na měření, ve kterých je teplota (sloupec AvgTemperature) vyšší než 80 stupňů.\n",
    "Dotaz na měření, ve kterých je teplota vyšší než 60 stupňů a současně bylo měření provedeno v regionu (sloupec Region) Evropa (Europe).\n",
    "Dotaz na extrémní hodnoty, tj. měření, ve kterých je teplota vyšší než 80 stupňů nebo menší než -20 stupňů."
   ]
  },
  {
   "cell_type": "code",
   "execution_count": 2,
   "metadata": {},
   "outputs": [
    {
     "data": {
      "text/html": [
       "<div>\n",
       "<style scoped>\n",
       "    .dataframe tbody tr th:only-of-type {\n",
       "        vertical-align: middle;\n",
       "    }\n",
       "\n",
       "    .dataframe tbody tr th {\n",
       "        vertical-align: top;\n",
       "    }\n",
       "\n",
       "    .dataframe thead th {\n",
       "        text-align: right;\n",
       "    }\n",
       "</style>\n",
       "<table border=\"1\" class=\"dataframe\">\n",
       "  <thead>\n",
       "    <tr style=\"text-align: right;\">\n",
       "      <th></th>\n",
       "      <th>Region</th>\n",
       "      <th>Country</th>\n",
       "      <th>City</th>\n",
       "      <th>Day</th>\n",
       "      <th>AvgTemperature</th>\n",
       "    </tr>\n",
       "  </thead>\n",
       "  <tbody>\n",
       "    <tr>\n",
       "      <th>0</th>\n",
       "      <td>Africa</td>\n",
       "      <td>Algeria</td>\n",
       "      <td>Algiers</td>\n",
       "      <td>1</td>\n",
       "      <td>62.0</td>\n",
       "    </tr>\n",
       "    <tr>\n",
       "      <th>1</th>\n",
       "      <td>Africa</td>\n",
       "      <td>Algeria</td>\n",
       "      <td>Algiers</td>\n",
       "      <td>2</td>\n",
       "      <td>62.2</td>\n",
       "    </tr>\n",
       "    <tr>\n",
       "      <th>2</th>\n",
       "      <td>Africa</td>\n",
       "      <td>Algeria</td>\n",
       "      <td>Algiers</td>\n",
       "      <td>3</td>\n",
       "      <td>65.7</td>\n",
       "    </tr>\n",
       "    <tr>\n",
       "      <th>3</th>\n",
       "      <td>Africa</td>\n",
       "      <td>Algeria</td>\n",
       "      <td>Algiers</td>\n",
       "      <td>4</td>\n",
       "      <td>69.8</td>\n",
       "    </tr>\n",
       "    <tr>\n",
       "      <th>4</th>\n",
       "      <td>Africa</td>\n",
       "      <td>Algeria</td>\n",
       "      <td>Algiers</td>\n",
       "      <td>5</td>\n",
       "      <td>63.8</td>\n",
       "    </tr>\n",
       "  </tbody>\n",
       "</table>\n",
       "</div>"
      ],
      "text/plain": [
       "   Region  Country     City  Day  AvgTemperature\n",
       "0  Africa  Algeria  Algiers    1            62.0\n",
       "1  Africa  Algeria  Algiers    2            62.2\n",
       "2  Africa  Algeria  Algiers    3            65.7\n",
       "3  Africa  Algeria  Algiers    4            69.8\n",
       "4  Africa  Algeria  Algiers    5            63.8"
      ]
     },
     "execution_count": 2,
     "metadata": {},
     "output_type": "execute_result"
    }
   ],
   "source": [
    "import pandas\n",
    "temperature = pandas.read_csv(\"temperature.csv\")\n",
    "temperature.head()\n"
   ]
  },
  {
   "cell_type": "code",
   "execution_count": 4,
   "metadata": {},
   "outputs": [
    {
     "data": {
      "text/plain": [
       "(8790, 5)"
      ]
     },
     "execution_count": 4,
     "metadata": {},
     "output_type": "execute_result"
    }
   ],
   "source": [
    "temperature.shape"
   ]
  },
  {
   "cell_type": "code",
   "execution_count": 10,
   "metadata": {},
   "outputs": [
    {
     "data": {
      "text/plain": [
       "<bound method NDFrame.head of       Region         Country    City  Day  AvgTemperature\n",
       "2100  Europe  Czech Republic  Prague    1            43.5\n",
       "2101  Europe  Czech Republic  Prague    2            48.5\n",
       "2102  Europe  Czech Republic  Prague    3            44.4\n",
       "2103  Europe  Czech Republic  Prague    4            39.7\n",
       "2104  Europe  Czech Republic  Prague    5            40.6\n",
       "2105  Europe  Czech Republic  Prague    6            42.3\n",
       "2106  Europe  Czech Republic  Prague    7            43.5\n",
       "2107  Europe  Czech Republic  Prague    8            41.4\n",
       "2108  Europe  Czech Republic  Prague    9            43.8\n",
       "2109  Europe  Czech Republic  Prague   10            43.0\n",
       "2110  Europe  Czech Republic  Prague   11            39.5\n",
       "2111  Europe  Czech Republic  Prague   12            36.7\n",
       "2112  Europe  Czech Republic  Prague   13            35.8\n",
       "2113  Europe  Czech Republic  Prague   14            35.5\n",
       "2114  Europe  Czech Republic  Prague   15            39.1\n",
       "2115  Europe  Czech Republic  Prague   16            38.5\n",
       "2116  Europe  Czech Republic  Prague   17            36.6\n",
       "2117  Europe  Czech Republic  Prague   18            37.0\n",
       "2118  Europe  Czech Republic  Prague   19            37.5\n",
       "2119  Europe  Czech Republic  Prague   20            37.0\n",
       "2120  Europe  Czech Republic  Prague   21            41.3\n",
       "2121  Europe  Czech Republic  Prague   22            44.6\n",
       "2122  Europe  Czech Republic  Prague   23            41.8\n",
       "2123  Europe  Czech Republic  Prague   24            46.2\n",
       "2124  Europe  Czech Republic  Prague   25            43.3\n",
       "2125  Europe  Czech Republic  Prague   26            34.6\n",
       "2126  Europe  Czech Republic  Prague   27            36.1\n",
       "2127  Europe  Czech Republic  Prague   28            39.3\n",
       "2128  Europe  Czech Republic  Prague   29            36.9\n",
       "2129  Europe  Czech Republic  Prague   30            33.7>"
      ]
     },
     "execution_count": 10,
     "metadata": {},
     "output_type": "execute_result"
    }
   ],
   "source": [
    "praha=temperature[temperature[\"City\"]==\"Prague\"]\n",
    "praha.head"
   ]
  },
  {
   "cell_type": "code",
   "execution_count": 11,
   "metadata": {},
   "outputs": [
    {
     "data": {
      "text/plain": [
       "<bound method NDFrame.head of              Region Country             City  Day  AvgTemperature\n",
       "30           Africa   Benin          Cotonou    1            81.7\n",
       "31           Africa   Benin          Cotonou    2            81.8\n",
       "32           Africa   Benin          Cotonou    3            83.6\n",
       "33           Africa   Benin          Cotonou    4            83.4\n",
       "34           Africa   Benin          Cotonou    5            80.3\n",
       "...             ...     ...              ...  ...             ...\n",
       "8011  North America      US      Brownsville    2            80.8\n",
       "8012  North America      US      Brownsville    3            81.1\n",
       "8015  North America      US      Brownsville    6            80.5\n",
       "8042  North America      US   Corpus Christi    3            80.2\n",
       "8074  North America      US  Dallas Ft Worth    5            80.1\n",
       "\n",
       "[722 rows x 5 columns]>"
      ]
     },
     "execution_count": 11,
     "metadata": {},
     "output_type": "execute_result"
    }
   ],
   "source": [
    "osmdesat=temperature[temperature[\"AvgTemperature\"] > 80]\n",
    "osmdesat.head"
   ]
  },
  {
   "cell_type": "code",
   "execution_count": 14,
   "metadata": {},
   "outputs": [
    {
     "data": {
      "text/plain": [
       "<bound method NDFrame.head of       Region   Country       City  Day  AvgTemperature\n",
       "1932  Europe   Albania     Tirana   13            60.3\n",
       "2402  Europe     Italy       Rome    3            62.2\n",
       "2404  Europe     Italy       Rome    5            60.4\n",
       "2580  Europe  Portugal     Lisbon    1            62.5\n",
       "2581  Europe  Portugal     Lisbon    2            63.2\n",
       "2582  Europe  Portugal     Lisbon    3            61.1\n",
       "2583  Europe  Portugal     Lisbon    4            61.6\n",
       "2602  Europe  Portugal     Lisbon   23            64.2\n",
       "2603  Europe  Portugal     Lisbon   24            62.6\n",
       "2701  Europe     Spain  Barcelona    2            63.8\n",
       "2702  Europe     Spain  Barcelona    3            63.1\n",
       "2703  Europe     Spain  Barcelona    4            63.5\n",
       "2704  Europe     Spain  Barcelona    5            61.6\n",
       "2730  Europe     Spain     Bilbao    1            62.9\n",
       "2731  Europe     Spain     Bilbao    2            66.3\n",
       "2732  Europe     Spain     Bilbao    3            63.8\n",
       "2751  Europe     Spain     Bilbao   22            62.7\n",
       "2752  Europe     Spain     Bilbao   23            69.5\n",
       "2753  Europe     Spain     Bilbao   24            62.5>"
      ]
     },
     "execution_count": 14,
     "metadata": {},
     "output_type": "execute_result"
    }
   ],
   "source": [
    "evropa_sedesat = temperature[(temperature[\"AvgTemperature\"] > 60) & (temperature[\"Region\"] == \"Europe\")]\n",
    "evropa_sedesat.head"
   ]
  },
  {
   "cell_type": "code",
   "execution_count": 21,
   "metadata": {},
   "outputs": [
    {
     "data": {
      "text/plain": [
       "<bound method NDFrame.head of              Region Country             City  Day  AvgTemperature\n",
       "30           Africa   Benin          Cotonou    1            81.7\n",
       "31           Africa   Benin          Cotonou    2            81.8\n",
       "32           Africa   Benin          Cotonou    3            83.6\n",
       "33           Africa   Benin          Cotonou    4            83.4\n",
       "34           Africa   Benin          Cotonou    5            80.3\n",
       "...             ...     ...              ...  ...             ...\n",
       "8011  North America      US      Brownsville    2            80.8\n",
       "8012  North America      US      Brownsville    3            81.1\n",
       "8015  North America      US      Brownsville    6            80.5\n",
       "8042  North America      US   Corpus Christi    3            80.2\n",
       "8074  North America      US  Dallas Ft Worth    5            80.1\n",
       "\n",
       "[772 rows x 5 columns]>"
      ]
     },
     "execution_count": 21,
     "metadata": {},
     "output_type": "execute_result"
    }
   ],
   "source": [
    "extremy = temperature[(temperature[\"AvgTemperature\"] > 80) | (temperature[\"AvgTemperature\"] < -20)]\n",
    "extremy.head"
   ]
  },
  {
   "cell_type": "markdown",
   "metadata": {},
   "source": [
    "Vypadá to, že mi to nenašlo ty nízké extrémy, protože má tato tabulka stejný počet řádků, jako ta osmdesat. Tak jsem si zkusila udělat jen ty nízké zvlášť a takto mi to jede. Tak nevím, proč mi to nejde udělat do spojení podmínek. A v těch datech z Gambie odhaduju, že tam je chybně mínus v prům. teplotě."
   ]
  },
  {
   "cell_type": "code",
   "execution_count": 20,
   "metadata": {},
   "outputs": [
    {
     "data": {
      "text/plain": [
       "<bound method NDFrame.head of                                  Region             Country           City  \\\n",
       "168                              Africa            Ethiopia    Addis Ababa   \n",
       "212                              Africa              Gambia         Banjul   \n",
       "213                              Africa              Gambia         Banjul   \n",
       "214                              Africa              Gambia         Banjul   \n",
       "215                              Africa              Gambia         Banjul   \n",
       "216                              Africa              Gambia         Banjul   \n",
       "217                              Africa              Gambia         Banjul   \n",
       "218                              Africa              Gambia         Banjul   \n",
       "219                              Africa              Gambia         Banjul   \n",
       "220                              Africa              Gambia         Banjul   \n",
       "221                              Africa              Gambia         Banjul   \n",
       "222                              Africa              Gambia         Banjul   \n",
       "223                              Africa              Gambia         Banjul   \n",
       "224                              Africa              Gambia         Banjul   \n",
       "225                              Africa              Gambia         Banjul   \n",
       "226                              Africa              Gambia         Banjul   \n",
       "227                              Africa              Gambia         Banjul   \n",
       "228                              Africa              Gambia         Banjul   \n",
       "229                              Africa              Gambia         Banjul   \n",
       "230                              Africa              Gambia         Banjul   \n",
       "231                              Africa              Gambia         Banjul   \n",
       "232                              Africa              Gambia         Banjul   \n",
       "262                              Africa              Guinea        Conakry   \n",
       "352                              Africa               Kenya        Nairobi   \n",
       "498                              Africa             Namibia       Windhoek   \n",
       "545                              Africa             Nigeria          Lagos   \n",
       "546                              Africa             Nigeria          Lagos   \n",
       "547                              Africa             Nigeria          Lagos   \n",
       "548                              Africa             Nigeria          Lagos   \n",
       "549                              Africa             Nigeria          Lagos   \n",
       "550                              Africa             Nigeria          Lagos   \n",
       "551                              Africa             Nigeria          Lagos   \n",
       "552                              Africa             Nigeria          Lagos   \n",
       "553                              Africa             Nigeria          Lagos   \n",
       "554                              Africa             Nigeria          Lagos   \n",
       "555                              Africa             Nigeria          Lagos   \n",
       "556                              Africa             Nigeria          Lagos   \n",
       "557                              Africa             Nigeria          Lagos   \n",
       "558                              Africa             Nigeria          Lagos   \n",
       "559                              Africa             Nigeria          Lagos   \n",
       "560                              Africa             Nigeria          Lagos   \n",
       "561                              Africa             Nigeria          Lagos   \n",
       "562                              Africa             Nigeria          Lagos   \n",
       "563                              Africa             Nigeria          Lagos   \n",
       "564                              Africa             Nigeria          Lagos   \n",
       "565                              Africa             Nigeria          Lagos   \n",
       "1071                               Asia           Indonesia        Jakarta   \n",
       "3119                        Middle East              Kuwait         Kuwait   \n",
       "3913  South/Central America & Carribean  Dominican Republic  Santo Domingo   \n",
       "4370                      North America                  US      Fairbanks   \n",
       "\n",
       "      Day  AvgTemperature  \n",
       "168    19           -99.0  \n",
       "212     3           -99.0  \n",
       "213     4           -99.0  \n",
       "214     5           -99.0  \n",
       "215     6           -99.0  \n",
       "216     7           -99.0  \n",
       "217     8           -99.0  \n",
       "218     9           -99.0  \n",
       "219    10           -99.0  \n",
       "220    11           -99.0  \n",
       "221    12           -99.0  \n",
       "222    13           -99.0  \n",
       "223    14           -99.0  \n",
       "224    15           -99.0  \n",
       "225    16           -99.0  \n",
       "226    17           -99.0  \n",
       "227    18           -99.0  \n",
       "228    19           -99.0  \n",
       "229    20           -99.0  \n",
       "230    21           -99.0  \n",
       "231    22           -99.0  \n",
       "232    23           -99.0  \n",
       "262    23           -99.0  \n",
       "352    23           -99.0  \n",
       "498    19           -99.0  \n",
       "545     6           -99.0  \n",
       "546     7           -99.0  \n",
       "547     8           -99.0  \n",
       "548     9           -99.0  \n",
       "549    10           -99.0  \n",
       "550    11           -99.0  \n",
       "551    12           -99.0  \n",
       "552    13           -99.0  \n",
       "553    14           -99.0  \n",
       "554    15           -99.0  \n",
       "555    16           -99.0  \n",
       "556    17           -99.0  \n",
       "557    18           -99.0  \n",
       "558    19           -99.0  \n",
       "559    20           -99.0  \n",
       "560    21           -99.0  \n",
       "561    22           -99.0  \n",
       "562    23           -99.0  \n",
       "563    24           -99.0  \n",
       "564    25           -99.0  \n",
       "565    26           -99.0  \n",
       "1071   22           -99.0  \n",
       "3119   30           -99.0  \n",
       "3913   14           -99.0  \n",
       "4370   21           -20.7  >"
      ]
     },
     "execution_count": 20,
     "metadata": {},
     "output_type": "execute_result"
    }
   ],
   "source": [
    "male = temperature[temperature[\"AvgTemperature\"]<-20]\n",
    "male.head"
   ]
  }
 ],
 "metadata": {
  "kernelspec": {
   "display_name": "Python 3",
   "language": "python",
   "name": "python3"
  },
  "language_info": {
   "codemirror_mode": {
    "name": "ipython",
    "version": 3
   },
   "file_extension": ".py",
   "mimetype": "text/x-python",
   "name": "python",
   "nbconvert_exporter": "python",
   "pygments_lexer": "ipython3",
   "version": "3.11.3"
  }
 },
 "nbformat": 4,
 "nbformat_minor": 2
}
