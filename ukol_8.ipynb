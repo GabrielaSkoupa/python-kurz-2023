{
 "cells": [
  {
   "cell_type": "markdown",
   "metadata": {},
   "source": [
    "Stáhni si dataset, který obsahuje seznam zvířat k adopci v ZOO Praha. Zdroj dat je Národní katalog otevřených dat.\n",
    "\n",
    "Data si načti pomocí metody pandas.read_csv(). Pozor, nastav oddělovač na znak středníku. Využij parametr sep.\n",
    "\n",
    "Seznam se s daty. Kolik má tabulka řádek a sloupců? 513, 6\n",
    "Jak se sloupce jmenují?\n",
    "bound method DataFrame.info of, id, nazev_cz, nazev_en, trida_cz  \\\n",
    "\n",
    "Které zvíře se nachází na záznamu s indexem 34? Vypiš název tohoto zvířete v češtině a v angličtině."
   ]
  },
  {
   "cell_type": "code",
   "execution_count": 4,
   "metadata": {},
   "outputs": [
    {
     "data": {
      "text/plain": [
       "<bound method DataFrame.info of        id             nazev_cz                     nazev_en       trida_cz  \\\n",
       "0       7          Šváb syčivý  Madagascar giant cockroach      Bezobratlí   \n",
       "1       8  Pakobylka okřídlená     Pink-winged stick insect     Bezobratlí   \n",
       "2      16                Tayra                        Tayra          Savci   \n",
       "3      35        Kajmanka supí    Alligator snapping turtle          Plazi   \n",
       "4      37      Želva žlutočelá       Indochinese box turtle          Plazi   \n",
       "..    ...                  ...                          ...            ...   \n",
       "508  1417  Rosnice šalamounská                               Obojživelníci   \n",
       "509  1418       Létavka obecná                               Obojživelníci   \n",
       "510  1419          Bažant paví                                       Ptáci   \n",
       "511  1420  Sojkovec rezavouchý                                       Ptáci   \n",
       "512  1421   Kachnice kaštanová                                       Ptáci   \n",
       "\n",
       "     cena  k_prohlidce  \n",
       "0    1000            1  \n",
       "1    1000            1  \n",
       "2    5000            1  \n",
       "3    2000            1  \n",
       "4    1000            1  \n",
       "..    ...          ...  \n",
       "508  1000            1  \n",
       "509  1000            1  \n",
       "510  1000            1  \n",
       "511  1000            1  \n",
       "512  1000            1  \n",
       "\n",
       "[513 rows x 6 columns]>"
      ]
     },
     "execution_count": 4,
     "metadata": {},
     "output_type": "execute_result"
    }
   ],
   "source": [
    "import pandas\n",
    "zvirata = pandas.read_csv('adopce_zvirat.csv', sep=\";\")\n",
    "zvirata.info"
   ]
  },
  {
   "cell_type": "code",
   "execution_count": 5,
   "metadata": {},
   "outputs": [
    {
     "data": {
      "text/plain": [
       "(513, 6)"
      ]
     },
     "execution_count": 5,
     "metadata": {},
     "output_type": "execute_result"
    }
   ],
   "source": [
    "zvirata.shape"
   ]
  },
  {
   "cell_type": "code",
   "execution_count": 11,
   "metadata": {},
   "outputs": [
    {
     "data": {
      "text/plain": [
       "id                     99\n",
       "nazev_cz        Ibis bílý\n",
       "nazev_en       White ibis\n",
       "trida_cz            Ptáci\n",
       "cena                 3000\n",
       "k_prohlidce             1\n",
       "Name: 34, dtype: object"
      ]
     },
     "execution_count": 11,
     "metadata": {},
     "output_type": "execute_result"
    }
   ],
   "source": [
    "zvirata.iloc[34]"
   ]
  },
  {
   "cell_type": "code",
   "execution_count": 19,
   "metadata": {},
   "outputs": [
    {
     "data": {
      "text/plain": [
       "'Ibis bílý'"
      ]
     },
     "execution_count": 19,
     "metadata": {},
     "output_type": "execute_result"
    }
   ],
   "source": [
    "zvirata.iloc[34,1]"
   ]
  },
  {
   "cell_type": "code",
   "execution_count": 20,
   "metadata": {},
   "outputs": [
    {
     "data": {
      "text/plain": [
       "'White ibis'"
      ]
     },
     "execution_count": 20,
     "metadata": {},
     "output_type": "execute_result"
    }
   ],
   "source": [
    "zvirata.iloc[34, 2]"
   ]
  },
  {
   "cell_type": "code",
   "execution_count": null,
   "metadata": {},
   "outputs": [],
   "source": []
  }
 ],
 "metadata": {
  "kernelspec": {
   "display_name": "Python 3",
   "language": "python",
   "name": "python3"
  },
  "language_info": {
   "codemirror_mode": {
    "name": "ipython",
    "version": 3
   },
   "file_extension": ".py",
   "mimetype": "text/x-python",
   "name": "python",
   "nbconvert_exporter": "python",
   "pygments_lexer": "ipython3",
   "version": "3.11.3"
  }
 },
 "nbformat": 4,
 "nbformat_minor": 2
}
